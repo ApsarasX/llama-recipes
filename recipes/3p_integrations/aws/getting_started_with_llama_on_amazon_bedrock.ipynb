{
 "cells": [
  {
   "cell_type": "markdown",
   "metadata": {
    "id": "lbfIu_3eEaAh"
   },
   "source": [
    "# Using Amazon Bedrock with Llama\n",
    "\n",
    "Open this notebook in <a href=\"https://colab.research.google.com/github/meta-llama/llama-recipes/blob/main/recipes/llama_api_providers/examples_with_aws/getting_started_llama2_on_amazon_bedrock.ipynb\"><img data-canonical-src=\"https://colab.research.google.com/assets/colab-badge.svg\" alt=\"Open In Colab\" src=\"https://camo.githubusercontent.com/f5e0d0538a9c2972b5d413e0ace04cecd8efd828d133133933dfffec282a4e1b/68747470733a2f2f636f6c61622e72657365617263682e676f6f676c652e636f6d2f6173736574732f636f6c61622d62616467652e737667\"></a>\n",
    "\n",
    "\n",
    "Use this notebook to quickly get started with Llama on Bedrock. You can access the Amazon Bedrock API using the AWS Python SDK.\n",
    "\n",
    "In this notebook, we will give you some simple code to confirm to get up and running with the AWS Python SDK, setting up credentials, looking up the list of available Meta Llama models, and using bedrock to inference.\n",
    "\n",
    "### Resources\n",
    "Set up the Amazon Bedrock API - https://docs.aws.amazon.com/bedrock/latest/userguide/api-setup.html\n",
    "\n",
    "### To connect programmatically to an AWS service, you use an endpoint. Amazon Bedrock provides the following service endpoints:\n",
    "\n",
    "* **bedrock** – Contains control plane APIs for managing, training, and deploying models.\n",
    "* **bedrock-runtime** – Contains runtime plane APIs for making inference requests for models hosted in Amazon Bedrock.\n",
    "* **bedrock-agent** – Contains control plane APIs for creating and managing agents and knowledge bases.\n",
    "* **bedrock-agent-runtime** – Contains control plane APIs for managing, training, and deploying models.\n",
    "\n",
    "### Prerequisite\n",
    "Before you can access Amazon Bedrock APIs, you will need an AWS Account, and you will need to request access to the foundation models that you plan to use. For more information on model access - https://docs.aws.amazon.com/bedrock/latest/userguide/model-access.html\n",
    "\n",
    "#### Setting up the AWS CLI (TBD)\n",
    "https://docs.aws.amazon.com/bedrock/latest/userguide/api-setup.html#api-using-cli-prereq\n",
    "\n",
    "#### Setting up an AWS SDK\n",
    "https://docs.aws.amazon.com/bedrock/latest/userguide/api-setup.html#api-sdk\n",
    "\n",
    "#### Using SageMaker Notebooks\n",
    "https://docs.aws.amazon.com/bedrock/latest/userguide/api-setup.html#api-using-sage\n",
    "\n",
    "For more information on Amazon Bedrock, please refer to the official documentation here: https://docs.aws.amazon.com/bedrock/"
   ]
  },
  {
   "cell_type": "code",
   "execution_count": 3,
   "metadata": {
    "id": "gVz1Y1HpxWdv"
   },
   "outputs": [],
   "source": [
    "# install packages\n",
    "!python3 -m pip install -qU boto3\n",
    "from getpass import getpass\n",
    "from urllib.request import urlopen\n",
    "import boto3\n",
    "import json"
   ]
  },
  {
   "cell_type": "markdown",
   "metadata": {},
   "source": [
    "#### Security Note\n",
    "\n",
    "For this notebook, we will use `getpass()` to reference your AWS Account credentials. This is just to help you get-started with this notebook more quickly. Otherwise, the we recommend that you avoid using getpass for your AWS credentials in a Jupyter notebook. It's not secure to expose your AWS credentials in this way. Instead, consider using AWS IAM roles or environment variables to securely handle your credentials.\n"
   ]
  },
  {
   "cell_type": "code",
   "execution_count": 4,
   "metadata": {
    "colab": {
     "base_uri": "https://localhost:8080/"
    },
    "id": "JHu-V-4ayNjB",
    "outputId": "4a1e856b-3ab1-480c-97fd-81a9b9e3724b"
   },
   "outputs": [
    {
     "name": "stdin",
     "output_type": "stream",
     "text": [
      "AWS Access key:  ········\n",
      "AWS Secret key:  ········\n",
      "AWS Session token:  ········\n",
      "AWS Region [default: us-west-2]:  \n"
     ]
    }
   ],
   "source": [
    "\n",
    "# Set default AWS region\n",
    "default_region = \"us-west-2\"\n",
    "\n",
    "# Get AWS credentials from user input (not recommended for production use)\n",
    "AWS_ACCESS_KEY = getpass(\"AWS Access key: \")\n",
    "AWS_SECRET_KEY = getpass(\"AWS Secret key: \")\n",
    "SESSION_TOKEN = getpass(\"AWS Session token: \")\n",
    "AWS_REGION = input(f\"AWS Region [default: {default_region}]: \") or default_region\n"
   ]
  },
  {
   "cell_type": "code",
   "execution_count": 5,
   "metadata": {},
   "outputs": [],
   "source": [
    "def create_bedrock_client(service_name):\n",
    "    \"\"\"\n",
    "    Create a Bedrock client using the provided service name and global AWS credentials.\n",
    "    \"\"\"\n",
    "    return boto3.client(\n",
    "        service_name=service_name,\n",
    "        region_name=AWS_REGION,\n",
    "        aws_access_key_id=AWS_ACCESS_KEY,\n",
    "        aws_secret_access_key=AWS_SECRET_KEY,\n",
    "        aws_session_token=SESSION_TOKEN\n",
    "    )"
   ]
  },
  {
   "cell_type": "code",
   "execution_count": 6,
   "metadata": {},
   "outputs": [],
   "source": [
    "def list_all_meta_bedrock_models(bedrock):\n",
    "    \"\"\"\n",
    "    List all Meta Bedrock models using the provided Bedrock client.\n",
    "    \"\"\"\n",
    "    try:\n",
    "        list_models = bedrock.list_foundation_models(byProvider='meta')\n",
    "        print(\"\\n\".join(list(map(lambda x: f\"{x['modelName']} : { x['modelId'] }\", list_models['modelSummaries']))))\n",
    "    except Exception as e:\n",
    "        print(f\"Failed to list models: {e}\")"
   ]
  },
  {
   "cell_type": "code",
   "execution_count": 7,
   "metadata": {},
   "outputs": [],
   "source": [
    "def invoke_model(bedrock_runtime, model_id, prompt, max_gen_len=256):\n",
    "    \"\"\"\n",
    "    Invoke a model with a given prompt using the provided Bedrock Runtime client.\n",
    "    \"\"\"\n",
    "    body = json.dumps({\n",
    "        \"prompt\": prompt,\n",
    "        \"temperature\": 0.1,\n",
    "        \"top_p\": 0.9,\n",
    "        \"max_gen_len\":max_gen_len,\n",
    "    })\n",
    "    accept = 'application/json'\n",
    "    content_type = 'application/json'\n",
    "    try:\n",
    "        response = bedrock_runtime.invoke_model(body=body, modelId=model_id, accept=accept, contentType=content_type)\n",
    "        response_body = json.loads(response.get('body').read())\n",
    "        generation = response_body.get('generation')\n",
    "        print(generation)\n",
    "    except Exception as e:\n",
    "        print(f\"Failed to invoke model: {e}\")\n",
    "\n",
    "    return generation"
   ]
  },
  {
   "cell_type": "code",
   "execution_count": 8,
   "metadata": {},
   "outputs": [],
   "source": [
    "import difflib\n",
    "def print_diff(text1, text2):\n",
    "    \"\"\"\n",
    "    Print the differences between two strings with labels for each line.\n",
    "    \"\"\"\n",
    "    diff = difflib.ndiff(text1.splitlines(), text2.splitlines())\n",
    "    for line in diff:\n",
    "        if line.startswith('-'):\n",
    "            label = 'LLAMA-3-8B'\n",
    "        elif line.startswith('+'):\n",
    "            label = 'LLAMA-3-70B'\n",
    "        else:\n",
    "            label = ''\n",
    "        if label != '':\n",
    "            print()  # add a newline before the first line of a difference\n",
    "        print(f\"{label} {line}\", end='')"
   ]
  },
  {
   "cell_type": "code",
   "execution_count": 9,
   "metadata": {},
   "outputs": [
    {
     "name": "stdout",
     "output_type": "stream",
     "text": [
      "Llama 2 Chat 13B : meta.llama2-13b-chat-v1:0:4k\n",
      "Llama 2 Chat 13B : meta.llama2-13b-chat-v1\n",
      "Llama 2 Chat 70B : meta.llama2-70b-chat-v1:0:4k\n",
      "Llama 2 Chat 70B : meta.llama2-70b-chat-v1\n",
      "Llama 2 13B : meta.llama2-13b-v1:0:4k\n",
      "Llama 2 13B : meta.llama2-13b-v1\n",
      "Llama 2 70B : meta.llama2-70b-v1:0:4k\n",
      "Llama 2 70B : meta.llama2-70b-v1\n",
      "Llama 3 8B Instruct : meta.llama3-8b-instruct-v1:0\n",
      "Llama 3 70B Instruct : meta.llama3-70b-instruct-v1:0\n",
      "Llama 3.1 8B Instruct : meta.llama3-1-8b-instruct-v1:0\n",
      "Llama 3.1 70B Instruct : meta.llama3-1-70b-instruct-v1:0\n",
      "Llama 3.1 405B Instruct : meta.llama3-1-405b-instruct-v1:0\n"
     ]
    }
   ],
   "source": [
    "bedrock = create_bedrock_client(\"bedrock\")\n",
    "bedrock_runtime = create_bedrock_client(\"bedrock-runtime\")\n",
    "\n",
    "# Let's test that your credentials are correct by using the bedrock client to list all meta models\n",
    "list_all_meta_bedrock_models(bedrock)"
   ]
  },
  {
   "cell_type": "code",
   "execution_count": 12,
   "metadata": {},
   "outputs": [
    {
     "name": "stdout",
     "output_type": "stream",
     "text": [
      "\n",
      "Llamas are members of the camelid family, which also includes camels, alpacas, guanacos, and vicuñas. They are native to South America, specifically the Andean region, and have been domesticated for thousands of years. Here are some interesting facts about llamas:\n",
      "\n",
      "**Physical Characteristics:**\n",
      "\n",
      "* Llamas are large animals, typically weighing between 280 and 450 kg (620-990 lbs) and standing between 1.7 and \n"
     ]
    },
    {
     "data": {
      "text/plain": [
       "'\\nLlamas are members of the camelid family, which also includes camels, alpacas, guanacos, and vicuñas. They are native to South America, specifically the Andean region, and have been domesticated for thousands of years. Here are some interesting facts about llamas:\\n\\n**Physical Characteristics:**\\n\\n* Llamas are large animals, typically weighing between 280 and 450 kg (620-990 lbs) and standing between 1.7 and '"
      ]
     },
     "execution_count": 12,
     "metadata": {},
     "output_type": "execute_result"
    }
   ],
   "source": [
    "# Now we can utilize Invoke to do a simple prompt\n",
    "# invoke_model(bedrock_runtime, 'meta.llama3-1-405b-instruct-v1:0', 'Tell me about llamas', 100)\n",
    "invoke_model(bedrock_runtime, 'meta.llama3-1-70b-instruct-v1:0', 'Tell me about llamas', 100)\n",
    "# invoke_model(bedrock_runtime, 'meta.llama3-1-8b-instruct-v1:0', 'Tell me about llamas', 100)"
   ]
  },
  {
   "cell_type": "code",
   "execution_count": 13,
   "metadata": {},
   "outputs": [
    {
     "name": "stdout",
     "output_type": "stream",
     "text": [
      "\n",
      "=======LLAMA-3-8B====PROMPT 1================> Explain black holes to 8th graders\n",
      "\n",
      "Black holes are regions in space where the gravitational pull is so strong that nothing, including light, can escape. They are formed when a massive star collapses in on itself and its gravity becomes so strong that it warps the fabric of space and time around it.\n",
      "Imagine you have a super-powerful vacuum cleaner that sucks up everything that gets too close, including light. That's basically what a black hole is, but instead of sucking up dirt and dust, it sucks up stars, planets, and even spaceships.\n",
      "The point of no return around a black hole is called the event horizon. Once you cross the event horizon, you're trapped and can't escape, no matter how fast you're moving or how powerful your spaceship is.\n",
      "Black holes come in different sizes, ranging from small, stellar-mass black holes formed from the collapse of individual stars, to supermassive black holes found at the centers of galaxies, with masses millions or even billions of times that of our sun.\n",
      "Despite their mysterious nature, scientists have been able to study black holes using a variety of methods, including observing the effects of their strong gravity on the motion of nearby stars and other objects, and detecting the radiation emitted by hot gas swirling around them.\n",
      "Overall, black holes are fascinating objects that continue\n",
      "\n",
      "=======LLAMA-3-70B====PROMPT 1================> Explain black holes to 8th graders\n",
      "\n",
      "Black holes are among the most mysterious and fascinating objects in the universe. Here's an explanation of black holes that 8th graders can understand:\n",
      "**What is a black hole?**\n",
      "A black hole is a region in space where the gravitational pull is so strong that nothing, including light, can escape. It's like a super-powerful vacuum cleaner that sucks up everything that gets too close.\n",
      "**How is a black hole created?**\n",
      "A black hole is formed when a massive star runs out of fuel and dies. The star collapses in on itself, causing a massive amount of matter to be compressed into an incredibly small space. This compression creates an intense gravitational field that warps the fabric of space and time around the star.\n",
      "**What happens if you get too close to a black hole?**\n",
      "If you get too close to a black hole, you'll be pulled towards it by its strong gravity. As you get closer, the gravity will get stronger and stronger, until you're pulled into the black hole. Once you cross the point of no return, called the event horizon, you'll be trapped forever.\n",
      "**What's the event horizon?**\n",
      "The event horizon is like a boundary around a black hole. Once you cross it, you can't escape. It\n",
      "==========================\n",
      "\n",
      "DIFF VIEW for PROMPT 1:\n",
      "   \n",
      "LLAMA-3-8B - Black holes are regions in space where the gravitational pull is so strong that nothing, including light, can escape. They are formed when a massive star collapses in on itself and its gravity becomes so strong that it warps the fabric of space and time around it.\n",
      "LLAMA-3-8B - Imagine you have a super-powerful vacuum cleaner that sucks up everything that gets too close, including light. That's basically what a black hole is, but instead of sucking up dirt and dust, it sucks up stars, planets, and even spaceships.\n",
      "LLAMA-3-8B - The point of no return around a black hole is called the event horizon. Once you cross the event horizon, you're trapped and can't escape, no matter how fast you're moving or how powerful your spaceship is.\n",
      "LLAMA-3-8B - Black holes come in different sizes, ranging from small, stellar-mass black holes formed from the collapse of individual stars, to supermassive black holes found at the centers of galaxies, with masses millions or even billions of times that of our sun.\n",
      "LLAMA-3-8B - Despite their mysterious nature, scientists have been able to study black holes using a variety of methods, including observing the effects of their strong gravity on the motion of nearby stars and other objects, and detecting the radiation emitted by hot gas swirling around them.\n",
      "LLAMA-3-8B - Overall, black holes are fascinating objects that continue\n",
      "LLAMA-3-70B + Black holes are among the most mysterious and fascinating objects in the universe. Here's an explanation of black holes that 8th graders can understand:\n",
      "LLAMA-3-70B + **What is a black hole?**\n",
      "LLAMA-3-70B + A black hole is a region in space where the gravitational pull is so strong that nothing, including light, can escape. It's like a super-powerful vacuum cleaner that sucks up everything that gets too close.\n",
      "LLAMA-3-70B + **How is a black hole created?**\n",
      "LLAMA-3-70B + A black hole is formed when a massive star runs out of fuel and dies. The star collapses in on itself, causing a massive amount of matter to be compressed into an incredibly small space. This compression creates an intense gravitational field that warps the fabric of space and time around the star.\n",
      "LLAMA-3-70B + **What happens if you get too close to a black hole?**\n",
      "LLAMA-3-70B + If you get too close to a black hole, you'll be pulled towards it by its strong gravity. As you get closer, the gravity will get stronger and stronger, until you're pulled into the black hole. Once you cross the point of no return, called the event horizon, you'll be trapped forever.\n",
      "LLAMA-3-70B + **What's the event horizon?**\n",
      "LLAMA-3-70B + The event horizon is like a boundary around a black hole. Once you cross it, you can't escape. It==========================\n"
     ]
    }
   ],
   "source": [
    "prompt_1 = \"Explain black holes to 8th graders\"\n",
    "prompt_2 = \"Tell me about llamas\"\n",
    "\n",
    "# Let's now run the same prompt with Llama 3 8B and 70B to compare responses\n",
    "print(\"\\n=======LLAMA-3-8B====PROMPT 1================>\", prompt_1)\n",
    "response_8b_prompt1 = invoke_model(bedrock_runtime, 'meta.llama3-1-8b-instruct-v1:0', prompt_1, 256)\n",
    "print(\"\\n=======LLAMA-3-70B====PROMPT 1================>\", prompt_1)\n",
    "response_70b_prompt1 = invoke_model(bedrock_runtime, 'meta.llama3-1-70b-instruct-v1:0', prompt_1, 256)\n",
    "\n",
    "\n",
    "# Print the differences in responses\n",
    "print(\"==========================\")\n",
    "print(\"\\nDIFF VIEW for PROMPT 1:\")\n",
    "print_diff(response_8b_prompt1, response_70b_prompt1)\n",
    "print(\"==========================\")"
   ]
  },
  {
   "cell_type": "code",
   "execution_count": 15,
   "metadata": {},
   "outputs": [
    {
     "name": "stdout",
     "output_type": "stream",
     "text": [
      "\n",
      "=======LLAMA-3-8B====PROMPT 2================> Tell me about llamas\n",
      " and alpacas. What are the differences between them?\n",
      "Llamas and alpacas are both members of the camelid family, which also includes camels and vicuñas. They are closely related and share many similarities, but they are different species with distinct characteristics.\n",
      "Here are some key differences:\n",
      "1. Size: Llamas are generally larger than alpacas. Adult llamas can weigh between 280 and 450 kg (620-990 lbs), while alpacas typically weigh between 100 and 200 kg (220-440 lbs).\n",
      "2. Ears: Llamas have banana-shaped ears, while alpacas have small, triangular ears that are relatively short.\n",
      "3. Coat: Llamas have a coarser, longer coat than alpacas, which is often used for their fiber. Alpacas have a softer, denser coat that is highly prized for its softness and warmth.\n",
      "4. Purpose: Llamas are often used as pack animals, while alpacas are primarily raised for their fiber.\n",
      "5. Temperament: Llamas are known for their strong will and can be more challenging to train than alpacas, which are generally more docile and easier to handle.\n",
      "6. Lifespan\n",
      "\n",
      "=======LLAMA-3-70B====PROMPT 2================> Tell me about llamas\n",
      "\n",
      "Llamas are members of the camelid family, which also includes camels, alpacas, guanacos, and vicuñas. They are native to South America, specifically the Andean region, and have been domesticated for thousands of years. Here are some interesting facts about llamas:\n",
      "\n",
      "**Physical Characteristics:**\n",
      "\n",
      "* Llamas are large animals, typically weighing between 280 and 450 kg (620-990 lbs) and standing between 1.7 and 1.9 meters (5.6-6.2 feet) tall at the shoulder.\n",
      "* They have a distinctive banana-shaped ears, a long neck, and a soft, woolly coat that can be a variety of colors, including white, brown, gray, and black.\n",
      "* Llamas have a unique foot structure, with two toes that are padded with a leathery skin, which helps them grip rocky terrain.\n",
      "\n",
      "**Behavior and Temperament:**\n",
      "\n",
      "* Llamas are social animals and live in herds in the wild. They are known for their gentle and calm nature, but can be strong-willed and independent.\n",
      "* They are intelligent and curious, and can be trained to carry packs, walk on a leash, and even perform tricks.\n",
      "* L\n",
      "==========================\n",
      "\n",
      "DIFF VIEW for PROMPT 2:\n",
      "\n",
      "LLAMA-3-8B -  and alpacas. What are the differences between them?\n",
      "LLAMA-3-8B - Llamas and alpacas are both members of the camelid family, which also includes camels and vicuñas. They are closely related and share many similarities, but they are different species with distinct characteristics.\n",
      "LLAMA-3-8B - Here are some key differences:\n",
      "LLAMA-3-8B - 1. Size: Llamas are generally larger than alpacas. Adult llamas can weigh between 280 and 450 kg (620-990 lbs), while alpacas typically weigh between 100 and 200 kg (220-440 lbs).\n",
      "LLAMA-3-8B - 2. Ears: Llamas have banana-shaped ears, while alpacas have small, triangular ears that are relatively short.\n",
      "LLAMA-3-8B - 3. Coat: Llamas have a coarser, longer coat than alpacas, which is often used for their fiber. Alpacas have a softer, denser coat that is highly prized for its softness and warmth.\n",
      "LLAMA-3-8B - 4. Purpose: Llamas are often used as pack animals, while alpacas are primarily raised for their fiber.\n",
      "LLAMA-3-8B - 5. Temperament: Llamas are known for their strong will and can be more challenging to train than alpacas, which are generally more docile and easier to handle.\n",
      "LLAMA-3-8B - 6. Lifespan\n",
      "LLAMA-3-70B + \n",
      "LLAMA-3-70B + Llamas are members of the camelid family, which also includes camels, alpacas, guanacos, and vicuñas. They are native to South America, specifically the Andean region, and have been domesticated for thousands of years. Here are some interesting facts about llamas:\n",
      "LLAMA-3-70B + \n",
      "LLAMA-3-70B + **Physical Characteristics:**\n",
      "LLAMA-3-70B + \n",
      "LLAMA-3-70B + * Llamas are large animals, typically weighing between 280 and 450 kg (620-990 lbs) and standing between 1.7 and 1.9 meters (5.6-6.2 feet) tall at the shoulder.\n",
      "LLAMA-3-70B + * They have a distinctive banana-shaped ears, a long neck, and a soft, woolly coat that can be a variety of colors, including white, brown, gray, and black.\n",
      "LLAMA-3-70B + * Llamas have a unique foot structure, with two toes that are padded with a leathery skin, which helps them grip rocky terrain.\n",
      "LLAMA-3-70B + \n",
      "LLAMA-3-70B + **Behavior and Temperament:**\n",
      "LLAMA-3-70B + \n",
      "LLAMA-3-70B + * Llamas are social animals and live in herds in the wild. They are known for their gentle and calm nature, but can be strong-willed and independent.\n",
      "LLAMA-3-70B + * They are intelligent and curious, and can be trained to carry packs, walk on a leash, and even perform tricks.\n",
      "LLAMA-3-70B + * L==========================\n"
     ]
    }
   ],
   "source": [
    "# Let's now run the same prompt with Llama 3 8B and 70B to compare responses\n",
    "print(\"\\n=======LLAMA-3-8B====PROMPT 2================>\", prompt_2)\n",
    "response_8b_prompt2 = invoke_model(bedrock_runtime, 'meta.llama3-1-8b-instruct-v1:0', prompt_2, 256)\n",
    "print(\"\\n=======LLAMA-3-70B====PROMPT 2================>\", prompt_2)\n",
    "response_70b_prompt2 = invoke_model(bedrock_runtime, 'meta.llama3-1-70b-instruct-v1:0', prompt_2, 256)\n",
    "\n",
    "# Print the differences in responses\n",
    "print(\"==========================\")\n",
    "print(\"\\nDIFF VIEW for PROMPT 2:\")\n",
    "print_diff(response_8b_prompt2, response_70b_prompt2)\n",
    "print(\"==========================\")"
   ]
  },
  {
   "cell_type": "code",
   "execution_count": null,
   "metadata": {},
   "outputs": [],
   "source": []
  }
 ],
 "metadata": {
  "colab": {
   "provenance": []
  },
  "kernelspec": {
   "display_name": "Python 3 (ipykernel)",
   "language": "python",
   "name": "python3"
  },
  "language_info": {
   "codemirror_mode": {
    "name": "ipython",
    "version": 3
   },
   "file_extension": ".py",
   "mimetype": "text/x-python",
   "name": "python",
   "nbconvert_exporter": "python",
   "pygments_lexer": "ipython3",
   "version": "3.11.8"
  }
 },
 "nbformat": 4,
 "nbformat_minor": 4
}
